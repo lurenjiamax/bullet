{
 "cells": [
  {
   "cell_type": "code",
   "execution_count": 1,
   "metadata": {},
   "outputs": [
    {
     "name": "stderr",
     "output_type": "stream",
     "text": [
      "/home/rafael/projects/bullet/.venv/lib/python3.11/site-packages/tqdm/auto.py:21: TqdmWarning: IProgress not found. Please update jupyter and ipywidgets. See https://ipywidgets.readthedocs.io/en/stable/user_install.html\n",
      "  from .autonotebook import tqdm as notebook_tqdm\n"
     ]
    }
   ],
   "source": [
    "from datasets import load_dataset\n",
    "\n",
    "dataset = load_dataset(\"imdb\")"
   ]
  },
  {
   "cell_type": "code",
   "execution_count": 2,
   "metadata": {},
   "outputs": [
    {
     "data": {
      "text/html": [
       "<div>\n",
       "<style scoped>\n",
       "    .dataframe tbody tr th:only-of-type {\n",
       "        vertical-align: middle;\n",
       "    }\n",
       "\n",
       "    .dataframe tbody tr th {\n",
       "        vertical-align: top;\n",
       "    }\n",
       "\n",
       "    .dataframe thead th {\n",
       "        text-align: right;\n",
       "    }\n",
       "</style>\n",
       "<table border=\"1\" class=\"dataframe\">\n",
       "  <thead>\n",
       "    <tr style=\"text-align: right;\">\n",
       "      <th></th>\n",
       "      <th>text</th>\n",
       "      <th>label</th>\n",
       "    </tr>\n",
       "  </thead>\n",
       "  <tbody>\n",
       "    <tr>\n",
       "      <th>0</th>\n",
       "      <td>I rented I AM CURIOUS-YELLOW from my video sto...</td>\n",
       "      <td>0</td>\n",
       "    </tr>\n",
       "    <tr>\n",
       "      <th>1</th>\n",
       "      <td>\"I Am Curious: Yellow\" is a risible and preten...</td>\n",
       "      <td>0</td>\n",
       "    </tr>\n",
       "    <tr>\n",
       "      <th>2</th>\n",
       "      <td>If only to avoid making this type of film in t...</td>\n",
       "      <td>0</td>\n",
       "    </tr>\n",
       "    <tr>\n",
       "      <th>3</th>\n",
       "      <td>This film was probably inspired by Godard's Ma...</td>\n",
       "      <td>0</td>\n",
       "    </tr>\n",
       "    <tr>\n",
       "      <th>4</th>\n",
       "      <td>Oh, brother...after hearing about this ridicul...</td>\n",
       "      <td>0</td>\n",
       "    </tr>\n",
       "  </tbody>\n",
       "</table>\n",
       "</div>"
      ],
      "text/plain": [
       "                                                text  label\n",
       "0  I rented I AM CURIOUS-YELLOW from my video sto...      0\n",
       "1  \"I Am Curious: Yellow\" is a risible and preten...      0\n",
       "2  If only to avoid making this type of film in t...      0\n",
       "3  This film was probably inspired by Godard's Ma...      0\n",
       "4  Oh, brother...after hearing about this ridicul...      0"
      ]
     },
     "execution_count": 2,
     "metadata": {},
     "output_type": "execute_result"
    }
   ],
   "source": [
    "df_train = dataset[\"train\"].to_pandas()\n",
    "df_train.head()"
   ]
  },
  {
   "cell_type": "markdown",
   "metadata": {},
   "source": [
    "## Zero Shot Learning"
   ]
  },
  {
   "cell_type": "code",
   "execution_count": 3,
   "metadata": {},
   "outputs": [],
   "source": [
    "from bullet.core.sentiment import SentimentClassifier\n",
    "\n",
    "\n",
    "df_train_sample = df_train.sample(n = 50)\n",
    "\n",
    "classifier = SentimentClassifier()\n",
    "result = classifier.predict_pandas(df_train_sample)"
   ]
  },
  {
   "cell_type": "code",
   "execution_count": 8,
   "metadata": {},
   "outputs": [
    {
     "data": {
      "text/plain": [
       "[ClassificationResponse(response='\\nPOS', embeddings_for_model='gpt-3.5-turbo-instruct', encoding=<Encoding 'cl100k_base'>, label=1),\n",
       " ClassificationResponse(response='\\nNEG', embeddings_for_model='gpt-3.5-turbo-instruct', encoding=<Encoding 'cl100k_base'>, label=0),\n",
       " ClassificationResponse(response='\\nPOS', embeddings_for_model='gpt-3.5-turbo-instruct', encoding=<Encoding 'cl100k_base'>, label=1),\n",
       " ClassificationResponse(response='\\nPOS', embeddings_for_model='gpt-3.5-turbo-instruct', encoding=<Encoding 'cl100k_base'>, label=1),\n",
       " ClassificationResponse(response='\\nPOS', embeddings_for_model='gpt-3.5-turbo-instruct', encoding=<Encoding 'cl100k_base'>, label=1)]"
      ]
     },
     "execution_count": 8,
     "metadata": {},
     "output_type": "execute_result"
    }
   ],
   "source": [
    "result[:5]"
   ]
  },
  {
   "cell_type": "code",
   "execution_count": 9,
   "metadata": {},
   "outputs": [],
   "source": [
    "df_train_sample[\"predicted\"] = [response.label for response in result]"
   ]
  },
  {
   "cell_type": "code",
   "execution_count": 13,
   "metadata": {},
   "outputs": [
    {
     "name": "stdout",
     "output_type": "stream",
     "text": [
      "Collecting scikit-learn\n",
      "  Obtaining dependency information for scikit-learn from https://files.pythonhosted.org/packages/0c/2a/d3ff6091406bc2207e0adb832ebd15e40ac685811c7e2e3b432bfd969b71/scikit_learn-1.3.2-cp311-cp311-manylinux_2_17_x86_64.manylinux2014_x86_64.whl.metadata\n",
      "  Using cached scikit_learn-1.3.2-cp311-cp311-manylinux_2_17_x86_64.manylinux2014_x86_64.whl.metadata (11 kB)\n",
      "Requirement already satisfied: numpy<2.0,>=1.17.3 in /home/rafael/projects/bullet/.venv/lib/python3.11/site-packages (from scikit-learn) (1.26.1)\n",
      "Collecting scipy>=1.5.0 (from scikit-learn)\n",
      "  Obtaining dependency information for scipy>=1.5.0 from https://files.pythonhosted.org/packages/ef/1b/7538792254aec6850657d5b940fd05fe60582af829ffe40d6c054f065f34/scipy-1.11.3-cp311-cp311-manylinux_2_17_x86_64.manylinux2014_x86_64.whl.metadata\n",
      "  Using cached scipy-1.11.3-cp311-cp311-manylinux_2_17_x86_64.manylinux2014_x86_64.whl.metadata (60 kB)\n",
      "Collecting joblib>=1.1.1 (from scikit-learn)\n",
      "  Obtaining dependency information for joblib>=1.1.1 from https://files.pythonhosted.org/packages/10/40/d551139c85db202f1f384ba8bcf96aca2f329440a844f924c8a0040b6d02/joblib-1.3.2-py3-none-any.whl.metadata\n",
      "  Using cached joblib-1.3.2-py3-none-any.whl.metadata (5.4 kB)\n",
      "Collecting threadpoolctl>=2.0.0 (from scikit-learn)\n",
      "  Obtaining dependency information for threadpoolctl>=2.0.0 from https://files.pythonhosted.org/packages/81/12/fd4dea011af9d69e1cad05c75f3f7202cdcbeac9b712eea58ca779a72865/threadpoolctl-3.2.0-py3-none-any.whl.metadata\n",
      "  Using cached threadpoolctl-3.2.0-py3-none-any.whl.metadata (10.0 kB)\n",
      "Using cached scikit_learn-1.3.2-cp311-cp311-manylinux_2_17_x86_64.manylinux2014_x86_64.whl (10.9 MB)\n",
      "Using cached joblib-1.3.2-py3-none-any.whl (302 kB)\n",
      "Using cached scipy-1.11.3-cp311-cp311-manylinux_2_17_x86_64.manylinux2014_x86_64.whl (36.4 MB)\n",
      "Using cached threadpoolctl-3.2.0-py3-none-any.whl (15 kB)\n",
      "Installing collected packages: threadpoolctl, scipy, joblib, scikit-learn\n",
      "Successfully installed joblib-1.3.2 scikit-learn-1.3.2 scipy-1.11.3 threadpoolctl-3.2.0\n",
      "\n",
      "\u001b[1m[\u001b[0m\u001b[34;49mnotice\u001b[0m\u001b[1;39;49m]\u001b[0m\u001b[39;49m A new release of pip is available: \u001b[0m\u001b[31;49m23.2.1\u001b[0m\u001b[39;49m -> \u001b[0m\u001b[32;49m23.3.1\u001b[0m\n",
      "\u001b[1m[\u001b[0m\u001b[34;49mnotice\u001b[0m\u001b[1;39;49m]\u001b[0m\u001b[39;49m To update, run: \u001b[0m\u001b[32;49mpip install --upgrade pip\u001b[0m\n"
     ]
    }
   ],
   "source": [
    "!pip install scikit-learn"
   ]
  },
  {
   "cell_type": "code",
   "execution_count": 14,
   "metadata": {},
   "outputs": [
    {
     "name": "stdout",
     "output_type": "stream",
     "text": [
      "              precision    recall  f1-score   support\n",
      "\n",
      "           0       0.95      0.86      0.90        21\n",
      "           1       0.90      0.97      0.93        29\n",
      "\n",
      "    accuracy                           0.92        50\n",
      "   macro avg       0.93      0.91      0.92        50\n",
      "weighted avg       0.92      0.92      0.92        50\n",
      "\n"
     ]
    }
   ],
   "source": [
    "from sklearn.metrics import classification_report\n",
    "\n",
    "report = classification_report(df_train_sample.label, df_train_sample.predicted)\n",
    "print(report)"
   ]
  },
  {
   "cell_type": "markdown",
   "metadata": {},
   "source": [
    "## Few-Shot Learning"
   ]
  },
  {
   "cell_type": "code",
   "execution_count": 15,
   "metadata": {},
   "outputs": [
    {
     "data": {
      "text/html": [
       "<div>\n",
       "<style scoped>\n",
       "    .dataframe tbody tr th:only-of-type {\n",
       "        vertical-align: middle;\n",
       "    }\n",
       "\n",
       "    .dataframe tbody tr th {\n",
       "        vertical-align: top;\n",
       "    }\n",
       "\n",
       "    .dataframe thead th {\n",
       "        text-align: right;\n",
       "    }\n",
       "</style>\n",
       "<table border=\"1\" class=\"dataframe\">\n",
       "  <thead>\n",
       "    <tr style=\"text-align: right;\">\n",
       "      <th></th>\n",
       "      <th>text</th>\n",
       "      <th>label</th>\n",
       "    </tr>\n",
       "  </thead>\n",
       "  <tbody>\n",
       "    <tr>\n",
       "      <th>0</th>\n",
       "      <td>I love sci-fi and am willing to put up with a ...</td>\n",
       "      <td>0</td>\n",
       "    </tr>\n",
       "    <tr>\n",
       "      <th>1</th>\n",
       "      <td>Worth the entertainment value of a rental, esp...</td>\n",
       "      <td>0</td>\n",
       "    </tr>\n",
       "    <tr>\n",
       "      <th>2</th>\n",
       "      <td>its a totally average film with a few semi-alr...</td>\n",
       "      <td>0</td>\n",
       "    </tr>\n",
       "    <tr>\n",
       "      <th>3</th>\n",
       "      <td>STAR RATING: ***** Saturday Night **** Friday ...</td>\n",
       "      <td>0</td>\n",
       "    </tr>\n",
       "    <tr>\n",
       "      <th>4</th>\n",
       "      <td>First off let me say, If you haven't enjoyed a...</td>\n",
       "      <td>0</td>\n",
       "    </tr>\n",
       "  </tbody>\n",
       "</table>\n",
       "</div>"
      ],
      "text/plain": [
       "                                                text  label\n",
       "0  I love sci-fi and am willing to put up with a ...      0\n",
       "1  Worth the entertainment value of a rental, esp...      0\n",
       "2  its a totally average film with a few semi-alr...      0\n",
       "3  STAR RATING: ***** Saturday Night **** Friday ...      0\n",
       "4  First off let me say, If you haven't enjoyed a...      0"
      ]
     },
     "execution_count": 15,
     "metadata": {},
     "output_type": "execute_result"
    }
   ],
   "source": [
    "result = []\n",
    "\n",
    "df_test = dataset[\"test\"].to_pandas()\n",
    "df_test.head()"
   ]
  },
  {
   "cell_type": "code",
   "execution_count": 21,
   "metadata": {},
   "outputs": [
    {
     "data": {
      "text/plain": [
       "['Review: \"This game is the bomb and this is the 007 game of the year and should be on greatest hits. When I got Agent Under Fire, I thought that was a good game but then Nightfire came around and that was better, but now there is a new type of James Bond game. This time it a 3rd person shooter and there is more than 12 missions, the graphics of the game are out of this house. It even has all of the great actors and actresses in this game like Pierce Bronsan as once again James Bond, William Dafoe as the villain Nikolai Diavolo, and Judi Dench as M (forgive me all if I spell it wrong). This game would be own as the greatest James Bond game around.<br /><br />I give this a 10/10\"\\nLabel: \"POS\"',\n",
       " 'Review: \"Jason Lee\\'s pecks are back! If that\\'s what you are looking for, look no further. If not, better move on...<br /><br />But about the movie. Clichés galore, some poorly shot but kinda exotic fight scenes (used JKD) and lots of bad acting & cheap effects. Poor Lee looks like he\\'s in pain throughout the movie, and no wonder. Not a pleasant comeback.<br /><br />The movie doesn\\'t even cut it as a B-movie - sure, there was a Germanish bleached blonde Rutger-wannabe bad guy, but no gratuitous sex scene or even a single booty shots. None. Zip. Nada. Even in Starship Troopers 2 they had the common sense to include the mandatory nudie scenes (as for rest of my comments on that excellent piece of classic cinema excellence, please refer to our upcoming review on that mind-blowing sequel...). I did get the feeling that the writer was taking his revenge on somebody with this - thus I won\\'t get into the \"plot\" of the movie or pretty much anything else related. Except that it did have some non-heterosexual overtones, so \\'nuff said.<br /><br />However, this movie has one thing going for it - no Jean-Claude :)\"\\nLabel: \"NEG\"',\n",
       " 'Review: \"---what happened to these unlikeable people. Alan Arkin was, as usual, unfunny and just walks through the role. The kids are all a mess. Mariesa Tomei probably wishes this role had never come her way. And what are Carl Reiner and Rita Moreno doing in this really bad, mean movie? If you enjoy watching losers wallow in their disfunction, and not try in any way to do better, this is your film. All others, take a walk, read a book, or see something else.<br /><br />Jane\"\\nLabel: \"NEG\"']"
      ]
     },
     "execution_count": 21,
     "metadata": {},
     "output_type": "execute_result"
    }
   ],
   "source": [
    "# Define Few Shot examples\n",
    "\n",
    "template = \"Review: \\\"{review}\\\"\\nLabel: \\\"{label}\\\"\"\n",
    "examples = [\n",
    "    template.format(\n",
    "        review = row[\"text\"],\n",
    "        label = \"POS\" if row[\"label\"] == 1 else \"NEG\"\n",
    "    )\n",
    "    for _, row\n",
    "    in df_train.sample(3).iterrows()\n",
    "]\n",
    "\n",
    "examples"
   ]
  },
  {
   "cell_type": "code",
   "execution_count": 22,
   "metadata": {},
   "outputs": [],
   "source": [
    "df_test_sample = dataset[\"test\"].to_pandas().sample(100)\n",
    "reviews = df_test_sample.text.values\n",
    "\n",
    "results = classifier.predict_few_shot(\n",
    "    reviews = reviews,\n",
    "    examples = examples\n",
    ")"
   ]
  },
  {
   "cell_type": "code",
   "execution_count": 25,
   "metadata": {},
   "outputs": [
    {
     "data": {
      "text/plain": [
       "[ClassificationResponse(response='\\nNEG', embeddings_for_model='gpt-3.5-turbo-instruct', encoding=<Encoding 'cl100k_base'>, label=0),\n",
       " ClassificationResponse(response='\\nLabel: \"POS\"', embeddings_for_model='gpt-3.5-turbo-instruct', encoding=<Encoding 'cl100k_base'>, label=1),\n",
       " ClassificationResponse(response='\\nNEG', embeddings_for_model='gpt-3.5-turbo-instruct', encoding=<Encoding 'cl100k_base'>, label=0),\n",
       " ClassificationResponse(response='\\nNEG', embeddings_for_model='gpt-3.5-turbo-instruct', encoding=<Encoding 'cl100k_base'>, label=0),\n",
       " ClassificationResponse(response='\\nPOS', embeddings_for_model='gpt-3.5-turbo-instruct', encoding=<Encoding 'cl100k_base'>, label=1)]"
      ]
     },
     "execution_count": 25,
     "metadata": {},
     "output_type": "execute_result"
    }
   ],
   "source": [
    "results[:5]"
   ]
  },
  {
   "cell_type": "code",
   "execution_count": 26,
   "metadata": {},
   "outputs": [
    {
     "name": "stdout",
     "output_type": "stream",
     "text": [
      "              precision    recall  f1-score   support\n",
      "\n",
      "           0       0.90      0.98      0.94        47\n",
      "           1       0.98      0.91      0.94        53\n",
      "\n",
      "    accuracy                           0.94       100\n",
      "   macro avg       0.94      0.94      0.94       100\n",
      "weighted avg       0.94      0.94      0.94       100\n",
      "\n"
     ]
    }
   ],
   "source": [
    "df_test_sample[\"predicted\"] = [response.label for response in results]\n",
    "\n",
    "report = classification_report(df_test_sample.label, df_test_sample.predicted)\n",
    "print(report)"
   ]
  },
  {
   "cell_type": "code",
   "execution_count": null,
   "metadata": {},
   "outputs": [],
   "source": []
  }
 ],
 "metadata": {
  "kernelspec": {
   "display_name": ".venv",
   "language": "python",
   "name": "python3"
  },
  "language_info": {
   "codemirror_mode": {
    "name": "ipython",
    "version": 3
   },
   "file_extension": ".py",
   "mimetype": "text/x-python",
   "name": "python",
   "nbconvert_exporter": "python",
   "pygments_lexer": "ipython3",
   "version": "3.11.6"
  }
 },
 "nbformat": 4,
 "nbformat_minor": 2
}
