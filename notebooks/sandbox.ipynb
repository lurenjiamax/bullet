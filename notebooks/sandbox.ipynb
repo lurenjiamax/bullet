{
 "cells": [
  {
   "cell_type": "code",
   "execution_count": 1,
   "metadata": {},
   "outputs": [
    {
     "name": "stderr",
     "output_type": "stream",
     "text": [
      "/home/rafael/projects/bullet/.venv/lib/python3.11/site-packages/tqdm/auto.py:21: TqdmWarning: IProgress not found. Please update jupyter and ipywidgets. See https://ipywidgets.readthedocs.io/en/stable/user_install.html\n",
      "  from .autonotebook import tqdm as notebook_tqdm\n"
     ]
    }
   ],
   "source": [
    "from datasets import load_dataset\n",
    "\n",
    "dataset = load_dataset(\"imdb\")"
   ]
  },
  {
   "cell_type": "markdown",
   "metadata": {},
   "source": [
    "## Zero Shot Learning"
   ]
  },
  {
   "cell_type": "code",
   "execution_count": 2,
   "metadata": {},
   "outputs": [],
   "source": [
    "from bullet.core.sentiment import SentimentClassifier\n",
    "\n",
    "df_test_sample = dataset[\"test\"].to_pandas().sample(n = 100)\n",
    "\n",
    "classifier = SentimentClassifier()\n",
    "result = classifier.predict_pandas(df_test_sample)"
   ]
  },
  {
   "cell_type": "code",
   "execution_count": 4,
   "metadata": {},
   "outputs": [
    {
     "data": {
      "text/plain": [
       "ClassificationResponse(results=[PromptResponse(response='\\nNEG', embeddings_for_model='gpt-3.5-turbo-instruct', encoding=None, label=0), PromptResponse(response='\\nNEG', embeddings_for_model='gpt-3.5-turbo-instruct', encoding=None, label=0), PromptResponse(response='\\nNEG', embeddings_for_model='gpt-3.5-turbo-instruct', encoding=None, label=0), PromptResponse(response='\\nNEG', embeddings_for_model='gpt-3.5-turbo-instruct', encoding=None, label=0), PromptResponse(response='\\nNEG', embeddings_for_model='gpt-3.5-turbo-instruct', encoding=None, label=0), PromptResponse(response='\\nPOS', embeddings_for_model='gpt-3.5-turbo-instruct', encoding=None, label=1), PromptResponse(response='\\nNEG', embeddings_for_model='gpt-3.5-turbo-instruct', encoding=None, label=0), PromptResponse(response='\\nPOS', embeddings_for_model='gpt-3.5-turbo-instruct', encoding=None, label=1), PromptResponse(response='\\nNEG', embeddings_for_model='gpt-3.5-turbo-instruct', encoding=None, label=0), PromptResponse(response='\\nNEG', embeddings_for_model='gpt-3.5-turbo-instruct', encoding=None, label=0), PromptResponse(response='\\nPOS', embeddings_for_model='gpt-3.5-turbo-instruct', encoding=None, label=1), PromptResponse(response='\\nPOS', embeddings_for_model='gpt-3.5-turbo-instruct', encoding=None, label=1), PromptResponse(response='\\nPOS', embeddings_for_model='gpt-3.5-turbo-instruct', encoding=None, label=1), PromptResponse(response='\\nPOS', embeddings_for_model='gpt-3.5-turbo-instruct', encoding=None, label=1), PromptResponse(response='\\nNEG', embeddings_for_model='gpt-3.5-turbo-instruct', encoding=None, label=0), PromptResponse(response='\\nNEG', embeddings_for_model='gpt-3.5-turbo-instruct', encoding=None, label=0), PromptResponse(response='\\nPOS', embeddings_for_model='gpt-3.5-turbo-instruct', encoding=None, label=1), PromptResponse(response='\\nNEG', embeddings_for_model='gpt-3.5-turbo-instruct', encoding=None, label=0), PromptResponse(response='\\nPOS', embeddings_for_model='gpt-3.5-turbo-instruct', encoding=None, label=1), PromptResponse(response='\\nPOS', embeddings_for_model='gpt-3.5-turbo-instruct', encoding=None, label=1), PromptResponse(response='\\nNEG', embeddings_for_model='gpt-3.5-turbo-instruct', encoding=None, label=0), PromptResponse(response='\\nNEG', embeddings_for_model='gpt-3.5-turbo-instruct', encoding=None, label=0), PromptResponse(response='\\nNEG', embeddings_for_model='gpt-3.5-turbo-instruct', encoding=None, label=0), PromptResponse(response='\\nNEG', embeddings_for_model='gpt-3.5-turbo-instruct', encoding=None, label=0), PromptResponse(response='\\nNEG', embeddings_for_model='gpt-3.5-turbo-instruct', encoding=None, label=0), PromptResponse(response='\\nNEG', embeddings_for_model='gpt-3.5-turbo-instruct', encoding=None, label=0), PromptResponse(response='\\nPOS', embeddings_for_model='gpt-3.5-turbo-instruct', encoding=None, label=1), PromptResponse(response='\\nPOS', embeddings_for_model='gpt-3.5-turbo-instruct', encoding=None, label=1), PromptResponse(response='\\nNEG', embeddings_for_model='gpt-3.5-turbo-instruct', encoding=None, label=0), PromptResponse(response='\\nPOS', embeddings_for_model='gpt-3.5-turbo-instruct', encoding=None, label=1), PromptResponse(response='\\nPOS', embeddings_for_model='gpt-3.5-turbo-instruct', encoding=None, label=1), PromptResponse(response='\\nNEG', embeddings_for_model='gpt-3.5-turbo-instruct', encoding=None, label=0), PromptResponse(response='\\nNEG', embeddings_for_model='gpt-3.5-turbo-instruct', encoding=None, label=0), PromptResponse(response='\\nNEG', embeddings_for_model='gpt-3.5-turbo-instruct', encoding=None, label=0), PromptResponse(response='\\nNEG', embeddings_for_model='gpt-3.5-turbo-instruct', encoding=None, label=0), PromptResponse(response='\\nNEG', embeddings_for_model='gpt-3.5-turbo-instruct', encoding=None, label=0), PromptResponse(response='\\nPOS', embeddings_for_model='gpt-3.5-turbo-instruct', encoding=None, label=1), PromptResponse(response='\\nPOS', embeddings_for_model='gpt-3.5-turbo-instruct', encoding=None, label=1), PromptResponse(response='\\nNEG', embeddings_for_model='gpt-3.5-turbo-instruct', encoding=None, label=0), PromptResponse(response='\\nPOS', embeddings_for_model='gpt-3.5-turbo-instruct', encoding=None, label=1), PromptResponse(response='\\nPOS', embeddings_for_model='gpt-3.5-turbo-instruct', encoding=None, label=1), PromptResponse(response='\\nPOS', embeddings_for_model='gpt-3.5-turbo-instruct', encoding=None, label=1), PromptResponse(response='\\nNEG', embeddings_for_model='gpt-3.5-turbo-instruct', encoding=None, label=0), PromptResponse(response='\\nNEG', embeddings_for_model='gpt-3.5-turbo-instruct', encoding=None, label=0), PromptResponse(response='\\nPOS', embeddings_for_model='gpt-3.5-turbo-instruct', encoding=None, label=1), PromptResponse(response='\\nNEG', embeddings_for_model='gpt-3.5-turbo-instruct', encoding=None, label=0), PromptResponse(response='\\nPOS', embeddings_for_model='gpt-3.5-turbo-instruct', encoding=None, label=1), PromptResponse(response='\\nPOS', embeddings_for_model='gpt-3.5-turbo-instruct', encoding=None, label=1), PromptResponse(response='\\nPOS', embeddings_for_model='gpt-3.5-turbo-instruct', encoding=None, label=1), PromptResponse(response='\\nPOS', embeddings_for_model='gpt-3.5-turbo-instruct', encoding=None, label=1), PromptResponse(response='\\nPOS', embeddings_for_model='gpt-3.5-turbo-instruct', encoding=None, label=1), PromptResponse(response='\\nPOS', embeddings_for_model='gpt-3.5-turbo-instruct', encoding=None, label=1), PromptResponse(response='\\nNEG', embeddings_for_model='gpt-3.5-turbo-instruct', encoding=None, label=0), PromptResponse(response='\\nNEG', embeddings_for_model='gpt-3.5-turbo-instruct', encoding=None, label=0), PromptResponse(response='\\nNEG', embeddings_for_model='gpt-3.5-turbo-instruct', encoding=None, label=0), PromptResponse(response='\\nNEG', embeddings_for_model='gpt-3.5-turbo-instruct', encoding=None, label=0), PromptResponse(response='\\nNEG', embeddings_for_model='gpt-3.5-turbo-instruct', encoding=None, label=0), PromptResponse(response='\\nNEG', embeddings_for_model='gpt-3.5-turbo-instruct', encoding=None, label=0), PromptResponse(response='\\nNEG', embeddings_for_model='gpt-3.5-turbo-instruct', encoding=None, label=0), PromptResponse(response='\\nNEG', embeddings_for_model='gpt-3.5-turbo-instruct', encoding=None, label=0), PromptResponse(response='\\nNEG', embeddings_for_model='gpt-3.5-turbo-instruct', encoding=None, label=0), PromptResponse(response='\\nNEG', embeddings_for_model='gpt-3.5-turbo-instruct', encoding=None, label=0), PromptResponse(response='\\nPOS', embeddings_for_model='gpt-3.5-turbo-instruct', encoding=None, label=1), PromptResponse(response='\\nNEG', embeddings_for_model='gpt-3.5-turbo-instruct', encoding=None, label=0), PromptResponse(response='\\nNEG', embeddings_for_model='gpt-3.5-turbo-instruct', encoding=None, label=0), PromptResponse(response='\\nPOS', embeddings_for_model='gpt-3.5-turbo-instruct', encoding=None, label=1), PromptResponse(response='\\nNEG', embeddings_for_model='gpt-3.5-turbo-instruct', encoding=None, label=0), PromptResponse(response='\\nPOS', embeddings_for_model='gpt-3.5-turbo-instruct', encoding=None, label=1), PromptResponse(response='\\nNEG', embeddings_for_model='gpt-3.5-turbo-instruct', encoding=None, label=0), PromptResponse(response='\\nNEG', embeddings_for_model='gpt-3.5-turbo-instruct', encoding=None, label=0), PromptResponse(response='\\nNEG', embeddings_for_model='gpt-3.5-turbo-instruct', encoding=None, label=0), PromptResponse(response='\\nPOS', embeddings_for_model='gpt-3.5-turbo-instruct', encoding=None, label=1), PromptResponse(response='\\nNEG', embeddings_for_model='gpt-3.5-turbo-instruct', encoding=None, label=0), PromptResponse(response='\\nPOS', embeddings_for_model='gpt-3.5-turbo-instruct', encoding=None, label=1), PromptResponse(response='\\nPOS', embeddings_for_model='gpt-3.5-turbo-instruct', encoding=None, label=1), PromptResponse(response='\\nNEG', embeddings_for_model='gpt-3.5-turbo-instruct', encoding=None, label=0), PromptResponse(response='\\nPOS', embeddings_for_model='gpt-3.5-turbo-instruct', encoding=None, label=1), PromptResponse(response='\\nPOS', embeddings_for_model='gpt-3.5-turbo-instruct', encoding=None, label=1), PromptResponse(response='\\nNEG', embeddings_for_model='gpt-3.5-turbo-instruct', encoding=None, label=0), PromptResponse(response='\\nPOS', embeddings_for_model='gpt-3.5-turbo-instruct', encoding=None, label=1), PromptResponse(response='\\nNEG', embeddings_for_model='gpt-3.5-turbo-instruct', encoding=None, label=0), PromptResponse(response='\\nNEG', embeddings_for_model='gpt-3.5-turbo-instruct', encoding=None, label=0), PromptResponse(response='\\nPOS', embeddings_for_model='gpt-3.5-turbo-instruct', encoding=None, label=1), PromptResponse(response='\\nNEG', embeddings_for_model='gpt-3.5-turbo-instruct', encoding=None, label=0), PromptResponse(response='\\nPOS', embeddings_for_model='gpt-3.5-turbo-instruct', encoding=None, label=1), PromptResponse(response='\\nNEG', embeddings_for_model='gpt-3.5-turbo-instruct', encoding=None, label=0), PromptResponse(response='\\nNEG', embeddings_for_model='gpt-3.5-turbo-instruct', encoding=None, label=0), PromptResponse(response='\\nNEG', embeddings_for_model='gpt-3.5-turbo-instruct', encoding=None, label=0), PromptResponse(response='\\nPOS', embeddings_for_model='gpt-3.5-turbo-instruct', encoding=None, label=1), PromptResponse(response='\\nPOS', embeddings_for_model='gpt-3.5-turbo-instruct', encoding=None, label=1), PromptResponse(response='\\nPOS', embeddings_for_model='gpt-3.5-turbo-instruct', encoding=None, label=1), PromptResponse(response='\\nNEG', embeddings_for_model='gpt-3.5-turbo-instruct', encoding=None, label=0), PromptResponse(response='\\nNEG', embeddings_for_model='gpt-3.5-turbo-instruct', encoding=None, label=0), PromptResponse(response='\\nNEG', embeddings_for_model='gpt-3.5-turbo-instruct', encoding=None, label=0), PromptResponse(response='\\nPOS', embeddings_for_model='gpt-3.5-turbo-instruct', encoding=None, label=1), PromptResponse(response='\\nPOS', embeddings_for_model='gpt-3.5-turbo-instruct', encoding=None, label=1), PromptResponse(response='\\nPOS', embeddings_for_model='gpt-3.5-turbo-instruct', encoding=None, label=1), PromptResponse(response='\\nPOS', embeddings_for_model='gpt-3.5-turbo-instruct', encoding=None, label=1), PromptResponse(response='\\nPOS', embeddings_for_model='gpt-3.5-turbo-instruct', encoding=None, label=1), PromptResponse(response='\\nPOS', embeddings_for_model='gpt-3.5-turbo-instruct', encoding=None, label=1)])"
      ]
     },
     "execution_count": 4,
     "metadata": {},
     "output_type": "execute_result"
    }
   ],
   "source": [
    "result"
   ]
  },
  {
   "cell_type": "code",
   "execution_count": 5,
   "metadata": {},
   "outputs": [],
   "source": [
    "df_test_sample[\"predicted\"] = [response.label for response in result.results]"
   ]
  },
  {
   "cell_type": "code",
   "execution_count": 6,
   "metadata": {},
   "outputs": [
    {
     "name": "stdout",
     "output_type": "stream",
     "text": [
      "Requirement already satisfied: scikit-learn in /home/rafael/projects/bullet/.venv/lib/python3.11/site-packages (1.3.2)\n",
      "Requirement already satisfied: numpy<2.0,>=1.17.3 in /home/rafael/projects/bullet/.venv/lib/python3.11/site-packages (from scikit-learn) (1.26.1)\n",
      "Requirement already satisfied: scipy>=1.5.0 in /home/rafael/projects/bullet/.venv/lib/python3.11/site-packages (from scikit-learn) (1.11.3)\n",
      "Requirement already satisfied: joblib>=1.1.1 in /home/rafael/projects/bullet/.venv/lib/python3.11/site-packages (from scikit-learn) (1.3.2)\n",
      "Requirement already satisfied: threadpoolctl>=2.0.0 in /home/rafael/projects/bullet/.venv/lib/python3.11/site-packages (from scikit-learn) (3.2.0)\n",
      "\n",
      "\u001b[1m[\u001b[0m\u001b[34;49mnotice\u001b[0m\u001b[1;39;49m]\u001b[0m\u001b[39;49m A new release of pip is available: \u001b[0m\u001b[31;49m23.2.1\u001b[0m\u001b[39;49m -> \u001b[0m\u001b[32;49m23.3.1\u001b[0m\n",
      "\u001b[1m[\u001b[0m\u001b[34;49mnotice\u001b[0m\u001b[1;39;49m]\u001b[0m\u001b[39;49m To update, run: \u001b[0m\u001b[32;49mpip install --upgrade pip\u001b[0m\n"
     ]
    }
   ],
   "source": [
    "!pip install scikit-learn"
   ]
  },
  {
   "cell_type": "code",
   "execution_count": 7,
   "metadata": {},
   "outputs": [
    {
     "name": "stdout",
     "output_type": "stream",
     "text": [
      "              precision    recall  f1-score   support\n",
      "\n",
      "           0       0.95      0.91      0.93        57\n",
      "           1       0.89      0.93      0.91        43\n",
      "\n",
      "    accuracy                           0.92       100\n",
      "   macro avg       0.92      0.92      0.92       100\n",
      "weighted avg       0.92      0.92      0.92       100\n",
      "\n"
     ]
    }
   ],
   "source": [
    "from sklearn.metrics import classification_report\n",
    "\n",
    "report = classification_report(df_test_sample.label, df_test_sample.predicted)\n",
    "print(report)"
   ]
  },
  {
   "cell_type": "markdown",
   "metadata": {},
   "source": [
    "## Few-Shot Learning"
   ]
  },
  {
   "cell_type": "markdown",
   "metadata": {},
   "source": [
    "### Number of examples = 3"
   ]
  },
  {
   "cell_type": "code",
   "execution_count": 14,
   "metadata": {},
   "outputs": [
    {
     "data": {
      "text/plain": [
       "['Review: \"I think this still is the best routine. There are some others, like Rock\\'s \"bring the pain\", and Allen\\'s \"Men are Pigs\" that are hilarious; \"Damon Waynes last stand\" is also funny in a tearful way - but this routine has no errors. All the jokes are funny, and the time limit of 70 minutes is perfect. Just long enough to last 20 years. I just love how he allows the audience to be totally themselves and unrestricted. I\\'m a fan of the classics and for a guy who watched a lot of of Jim Carrey growing up, watching a more laid back comic is pretty cool. Not putting in a category with Ellen and Newhart, but something you can watch if you\\'re bloated. Thanks Eddie, god bless.\"\\nLabel: \"POS\"',\n",
       " 'Review: \"It is no wonder this movie won 4 prices, it is a movie that lingers to any soul, it isn\\'t a wonder why it took Paul Reiser 20 years to finally give in and talk to Peter Falk about his idea. I can understand every part of it, this is a movie that will make you cry just a tear, or thousands.<br /><br />Story: 10/10 When Sam kleinman gets a letter from his wife about her leaving him to find something else his son and him take out on a road trip to find her, and while they do that they find something lost, Friendship, family, and affection for each other. At the beginning you know whats going to happen, but none soever the story is not that easy to figure out from beginning to end, it is a ride between a father and his son, and a husband and his wife. It is no wonder it took Paul Reiser 20 years to write this beautiful romance/comedy.<br /><br />Actors: 10/10 Well you cant say anything else that what i about to say, hey it is with Peter Falk in it, he is a legend everything he does in movies are magic, when you use Peter Falk in a romance/comedy what do you think you get? A perfect outcome, it is no wonder this movie is that perfect and won that many prices. As the son Paul Reiser does an excellent job, although he isn\\'t a great actor always that doesn\\'t mean that this didn\\'t work actually Peter Falk and Paul Reiser plays the perfect Father and Son, the rest of the cast is good enough but you don\\'t see them as much so just say they do what they shall to get this to shine even more. <br /><br />Music: 10/10 It doesn\\'t always work when using music sometimes it just doesn\\'t fit but that is not the thing in this movie, the music is perfect in tune, it makes the movie even more compelling. This part of the movie will shine off as good as the other parts, a great soundtrack for a Romance/Comedy thats for sure.<br /><br />Overall: 10/10 There are so many Romance/Comedy movies out on tapes, DVDs, Blu-ray and what not, but this movie is one of the special ones. it doesn\\'t happen everyday that you can create a story like this, it takes years thinking about this and the fact is that actually what it took to make it, a great piece that should be bought and kept into the human soul, see it when you get old and see it with your father at a old age, i think then this movie will spark like no other ever made.\"\\nLabel: \"POS\"',\n",
       " 'Review: \"No cinematic achievements here, however that\\'s not even the important question. How does it fare in its endeavour to be a competent date movie--and star vehicle?<br /><br />The formula requires the cute female lead a la Ryan or Aniston--check; there\\'s a built-in TV audience!<br /><br />Add thick-headed, compliant men, usually including the problem ex-boyfriend/fiancée--check. <br /><br />Assemble a plot that maximizes the bankability of the stars. So far, so good.<br /><br />What is the male lead to consist of? He has to make all the women in the movie and in the audience (and the gay flight stewards) instantly swoon. But...he cannot be so hunky as to threaten to the male audience, and he can\\'t outshine the star. Roll cameras...<br /><br />The problem is Messing thinks she\\'s still in a sitcom...she has only one presentation: as the wide-eyed doormat that she\\'s made a career out of. A capable actress might have pulled it off after the love scene, where things promptly nosedive into the soap suds. <br /><br />You can\\'t help feeling good for Mulroney...you can read it in his face that he sees through all of this. He\\'s gotten all the respect of a lifetime .260 hitter. This time, he smacks one out to the warning track, and no one can figure out what to do, as he amusedly takes home plate.\"\\nLabel: \"NEG\"',\n",
       " 'Review: \"Actually this movie was not so bad. It contains action, comedy and excitement. There are good actors in this film, for instance Doug Hutchison (Percy from \"The Green Mile\"), who plays Bristol. Another well known actor is Jamie Kennedy, from \"Scream\" and \"Three Kings\". The main characters are played by Jamie Foxx as Alvin, who was pretty good and also funny, but the one who most surprised me, was David Morse as Edgar Clenteen. He plays a different character than he usually does, because in other films like \"The Green Mile\", \"Indian Runner\", \"The Negotiator\" or \"The Langoliers\" he plays a very sympathetic person, and in \"Bait\" the plays almost the opposite, a man without any emotions, which was nice to see. The only really negative thing about this film, are the several pictures of the World Trade Center, which makes this film perhaps look a little dated. Overall I thought this was a pretty good little film!\"\\nLabel: \"POS\"',\n",
       " 'Review: \"I have never seen a Barbara Steele movie that I haven\\'t liked, and have always been a sucker for a good haunted-house story (especially for such wonderful pictures as \"The Legend of Hell House\" and the original versions of \"The Haunting\" and \"House on Haunted Hill\"), so I had a feeling that \"Castle of Blood\" would be right up my alley. And boy, was it ever! This French-Italian coproduction, while perhaps not the classic that Steele\\'s first horror film, \"Black Sunday,\" remains to this day, is nevertheless an extremely atmospheric, chilling entry in the spook genre. Filmed in black and white, it manages to convey a genuinely creepy miasma. The film concerns a journalist who bets one Lord Blackwood and an author named Edgar Allen Poe that he can spend the night in Blackwood\\'s castle on the night of All Saints Day, when the spirits of those killed in the castle reenact their fate. The viewer gets to see these deaths, and they ARE pretty horrible, for the most part. The film does indeed send shivers up the viewer\\'s spine, and in the uncut DVD that I just watched--thanks to the fine folks at Synapse--even features a surprising topless scene and some mild lesbianism! And Barbara is wonderful in this movie; her otherworldly beauty is put to good advantage playing a sympathetic spectre. Her mere presence turns a creepy ghost story into something truly memorable. Not for nothing has she been called \"The Queen of Horror.\"\"\\nLabel: \"POS\"']"
      ]
     },
     "execution_count": 14,
     "metadata": {},
     "output_type": "execute_result"
    }
   ],
   "source": [
    "# Define Few Shot examples\n",
    "\n",
    "df_train_sample = dataset[\"train\"].to_pandas().sample(3, random_state = 123)\n",
    "\n",
    "template = \"Review: \\\"{review}\\\"\\nLabel: \\\"{label}\\\"\"\n",
    "examples = [\n",
    "    template.format(\n",
    "        review = row[\"text\"],\n",
    "        label = \"POS\" if row[\"label\"] == 1 else \"NEG\"\n",
    "    )\n",
    "    for _, row\n",
    "    in df_train_sample.iterrows()\n",
    "]\n",
    "\n",
    "examples"
   ]
  },
  {
   "cell_type": "code",
   "execution_count": 15,
   "metadata": {},
   "outputs": [],
   "source": [
    "reviews = df_test_sample.text.values\n",
    "\n",
    "results = classifier.predict_few_shot(\n",
    "    reviews = reviews,\n",
    "    examples = examples\n",
    ")"
   ]
  },
  {
   "cell_type": "code",
   "execution_count": 16,
   "metadata": {},
   "outputs": [
    {
     "name": "stdout",
     "output_type": "stream",
     "text": [
      "              precision    recall  f1-score   support\n",
      "\n",
      "           0       0.93      0.95      0.94        57\n",
      "           1       0.93      0.91      0.92        43\n",
      "\n",
      "    accuracy                           0.93       100\n",
      "   macro avg       0.93      0.93      0.93       100\n",
      "weighted avg       0.93      0.93      0.93       100\n",
      "\n"
     ]
    }
   ],
   "source": [
    "df_test_sample[\"predicted\"] = [response.label for response in results.results]\n",
    "\n",
    "report = classification_report(df_test_sample.label, df_test_sample.predicted)\n",
    "print(report)"
   ]
  },
  {
   "cell_type": "markdown",
   "metadata": {},
   "source": [
    "### Number of examples = 5"
   ]
  },
  {
   "cell_type": "code",
   "execution_count": null,
   "metadata": {},
   "outputs": [],
   "source": [
    "# Define Few Shot examples\n",
    "\n",
    "df_train_sample = dataset[\"train\"].to_pandas().sample(5, random_state = 123)\n",
    "\n",
    "template = \"Review: \\\"{review}\\\"\\nLabel: \\\"{label}\\\"\"\n",
    "examples = [\n",
    "    template.format(\n",
    "        review = row[\"text\"],\n",
    "        label = \"POS\" if row[\"label\"] == 1 else \"NEG\"\n",
    "    )\n",
    "    for _, row\n",
    "    in df_train_sample.iterrows()\n",
    "]\n",
    "\n",
    "examples"
   ]
  },
  {
   "cell_type": "code",
   "execution_count": null,
   "metadata": {},
   "outputs": [],
   "source": [
    "results = classifier.predict_few_shot(\n",
    "    reviews = reviews,\n",
    "    examples = examples\n",
    ")"
   ]
  },
  {
   "cell_type": "code",
   "execution_count": null,
   "metadata": {},
   "outputs": [],
   "source": [
    "df_test_sample[\"predicted\"] = [response.label for response in results.results]\n",
    "\n",
    "report = classification_report(df_test_sample.label, df_test_sample.predicted)\n",
    "print(report)"
   ]
  }
 ],
 "metadata": {
  "kernelspec": {
   "display_name": ".venv",
   "language": "python",
   "name": "python3"
  },
  "language_info": {
   "codemirror_mode": {
    "name": "ipython",
    "version": 3
   },
   "file_extension": ".py",
   "mimetype": "text/x-python",
   "name": "python",
   "nbconvert_exporter": "python",
   "pygments_lexer": "ipython3",
   "version": "3.11.6"
  }
 },
 "nbformat": 4,
 "nbformat_minor": 2
}
